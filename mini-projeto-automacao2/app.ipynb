{
 "cells": [
  {
   "cell_type": "markdown",
   "metadata": {},
   "source": [
    "## Projeto de Automação: Geração Ge Certificados "
   ]
  },
  {
   "cell_type": "markdown",
   "metadata": {},
   "source": [
    "Passo 01: Instalar bibliotecas"
   ]
  },
  {
   "cell_type": "code",
   "execution_count": null,
   "metadata": {},
   "outputs": [],
   "source": [
    "!pip install pandas \n",
    "!pip install fpdf"
   ]
  },
  {
   "cell_type": "markdown",
   "metadata": {},
   "source": [
    "Importando as Bibliotecas"
   ]
  },
  {
   "cell_type": "code",
   "execution_count": 3,
   "metadata": {},
   "outputs": [],
   "source": [
    "import pandas as pd\n",
    "from fpdf import FPDF"
   ]
  },
  {
   "cell_type": "markdown",
   "metadata": {},
   "source": [
    "Passo 02: Carregar os Dados"
   ]
  },
  {
   "cell_type": "code",
   "execution_count": null,
   "metadata": {},
   "outputs": [],
   "source": [
    "dados = pd.read_csv(\"dados.csv\")\n",
    "\n",
    "dados"
   ]
  },
  {
   "cell_type": "markdown",
   "metadata": {},
   "source": [
    "Passo 03: Definindo Informações do Certificado "
   ]
  },
  {
   "cell_type": "code",
   "execution_count": 7,
   "metadata": {},
   "outputs": [],
   "source": [
    "titulo = \"CERTIFICADO DE PARTICIPAÇÃO\"\n",
    "subtitulo = \"Este certificado comprova que\"\n",
    "texto2 = \"concluiu com êxito o curso GRATUITO DE PYTHON ministrado por\"\n",
    "texto3 = \"PROF. SAUER entre xx/xx/xxxx e xx/xx/xxxx,\"\n",
    "texto4 = \"com carga horária de aproximadamente xx horas.\""
   ]
  },
  {
   "cell_type": "markdown",
   "metadata": {},
   "source": [
    "Passo 04: Percorrer os dados"
   ]
  },
  {
   "cell_type": "code",
   "execution_count": null,
   "metadata": {},
   "outputs": [],
   "source": [
    "for nome in dados['nomecompleto']:\n",
    "    #Criação do objeto PDF\n",
    "    pdf = FPDF()\n",
    "    pdf.add_page()\n",
    "    pdf.set_font(\"Arial\", 'B', size=15)\n",
    "\n",
    "    #Adicionando a imagem de fundo (template)\n",
    "    pdf.image(\"template.png\", x=0, y=0)\n",
    "\n",
    "    #Configurando a cor do texto\n",
    "    pdf.set_text_color(33, 24, 136)\n",
    "\n",
    "    #Adicionando o texto ao PDF\n",
    "    pdf.text(65, 95, titulo)\n",
    "    pdf.text(67, 120, subtitulo)\n",
    "    pdf.text(70, 145, nome)\n",
    "    pdf.text(20, 165, texto2)\n",
    "    pdf.text(50, 175, texto3)\n",
    "    pdf.text(50, 185, texto4)\n",
    "\n",
    "    #Salvando o PDF com um nome único\n",
    "    pdf.output(f\"Certificado_{nome}.pdf\")"
   ]
  },
  {
   "cell_type": "markdown",
   "metadata": {},
   "source": [
    "Códgo Completo"
   ]
  },
  {
   "cell_type": "code",
   "execution_count": null,
   "metadata": {},
   "outputs": [],
   "source": [
    "from fpdf import FPDF\n",
    "import pandas as pd\n",
    "\n",
    "dados = pd.read_csv(\"dados.csv\")\n",
    "#print(dados['nomecompleto'])\n",
    "\n",
    "# Dados do certificado\n",
    "titulo =    \"CERTIFICADO DE PARTICIPAÇÃO\"\n",
    "subtitulo = \"Este certificado comprova que\"\n",
    "nome = \"Alexandre Sauer\"\n",
    "texto2 = \"concluiu com êxito o curso GRATUITO DE PYTHON ministrado por\"\n",
    "texto3 = \" PROF. SAUER entre 23/08/2024 e 28/08/2024,\"\n",
    "texto4 = \"com carga horária de aproximadamente 08 horas.\"\n",
    "\n",
    "\n",
    "for nome in dados['nomecompleto']:\n",
    "    pdf = FPDF()\n",
    "    pdf.add_page()\n",
    "    pdf.set_font(\"Arial\", 'B', size=15)\n",
    "    pdf.image(\"template.png\", x=0, y=0)\n",
    "    pdf.set_text_color(33, 24, 136)\n",
    "    # Adicionar o texto\n",
    "    # Note que as coordenadas para o texto podem precisar ser ajustadas\n",
    "    pdf.text(65, 95, titulo)\n",
    "    pdf.text(67, 120, subtitulo)\n",
    "\n",
    "    pdf.text(70, 145, nome)\n",
    "    pdf.text(20, 165, texto2)\n",
    "    pdf.text(50, 175, texto3)\n",
    "    pdf.text(50, 185, texto4)\n",
    "\n",
    "    # Salvar o PDF com um nome de arquivo único\n",
    "    pdf.output(f\"Certificado_{nome}.pdf\")"
   ]
  }
 ],
 "metadata": {
  "kernelspec": {
   "display_name": "Python 3",
   "language": "python",
   "name": "python3"
  },
  "language_info": {
   "codemirror_mode": {
    "name": "ipython",
    "version": 3
   },
   "file_extension": ".py",
   "mimetype": "text/x-python",
   "name": "python",
   "nbconvert_exporter": "python",
   "pygments_lexer": "ipython3",
   "version": "3.12.1"
  }
 },
 "nbformat": 4,
 "nbformat_minor": 2
}
